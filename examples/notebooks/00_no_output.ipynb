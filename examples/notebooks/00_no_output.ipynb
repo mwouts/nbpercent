{
 "cells": [
  {
   "cell_type": "code",
   "execution_count": 1,
   "id": "e57e3703-0a89-4dd7-b906-2304c8d32df7",
   "metadata": {},
   "outputs": [],
   "source": [
    "x = 5"
   ]
  },
  {
   "cell_type": "code",
   "execution_count": null,
   "id": "0d09d119-e8a8-4a0d-86d4-5cb1e0bb9517",
   "metadata": {},
   "outputs": [],
   "source": []
  }
 ],
 "metadata": {
  "kernelspec": {
   "display_name": "Python [conda env:nbpercent-dev] *",
   "language": "python",
   "name": "conda-env-nbpercent-dev-py"
  },
  "language_info": {
   "codemirror_mode": {
    "name": "ipython",
    "version": 3
   },
   "file_extension": ".py",
   "mimetype": "text/x-python",
   "name": "python",
   "nbconvert_exporter": "python",
   "pygments_lexer": "ipython3",
   "version": "3.10.4"
  }
 },
 "nbformat": 4,
 "nbformat_minor": 5
}
