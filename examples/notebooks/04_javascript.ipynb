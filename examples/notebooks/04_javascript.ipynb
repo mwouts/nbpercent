{
 "cells": [
  {
   "cell_type": "code",
   "execution_count": 1,
   "id": "1dbf82e8-c8f9-43e5-aac4-787d218f7a06",
   "metadata": {},
   "outputs": [
    {
     "data": {
      "application/javascript": [
       "alert('message')"
      ],
      "text/plain": [
       "<IPython.core.display.Javascript object>"
      ]
     },
     "execution_count": 1,
     "metadata": {},
     "output_type": "execute_result"
    }
   ],
   "source": [
    "from IPython.display import Javascript\n",
    "\n",
    "Javascript(\"alert('message')\")"
   ]
  },
  {
   "cell_type": "code",
   "execution_count": null,
   "id": "442ccbee-9dfd-414a-9a05-d0b7461f79fb",
   "metadata": {},
   "outputs": [],
   "source": []
  }
 ],
 "metadata": {
  "kernelspec": {
   "display_name": "Python [conda env:nbpercent-dev] *",
   "language": "python",
   "name": "conda-env-nbpercent-dev-py"
  },
  "language_info": {
   "codemirror_mode": {
    "name": "ipython",
    "version": 3
   },
   "file_extension": ".py",
   "mimetype": "text/x-python",
   "name": "python",
   "nbconvert_exporter": "python",
   "pygments_lexer": "ipython3",
   "version": "3.10.4"
  }
 },
 "nbformat": 4,
 "nbformat_minor": 5
}
