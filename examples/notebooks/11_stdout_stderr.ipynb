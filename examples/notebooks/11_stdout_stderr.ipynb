{
 "cells": [
  {
   "cell_type": "code",
   "execution_count": 1,
   "id": "244a71e8-7b64-4a07-b8a7-7de47e7d45dc",
   "metadata": {},
   "outputs": [
    {
     "name": "stdout",
     "output_type": "stream",
     "text": [
      "22\n"
     ]
    }
   ],
   "source": [
    "!echo 22"
   ]
  },
  {
   "cell_type": "code",
   "execution_count": 3,
   "id": "f2d18994-8122-4dcb-8781-8be0f0b8b6d9",
   "metadata": {},
   "outputs": [
    {
     "name": "stdout",
     "output_type": "stream",
     "text": [
      "error\n"
     ]
    }
   ],
   "source": [
    "!>&2 echo \"error\""
   ]
  },
  {
   "cell_type": "code",
   "execution_count": null,
   "id": "ee282e42-eca6-4862-b405-408e245af268",
   "metadata": {},
   "outputs": [],
   "source": []
  }
 ],
 "metadata": {
  "kernelspec": {
   "display_name": "Python [conda env:nbpercent-dev] *",
   "language": "python",
   "name": "conda-env-nbpercent-dev-py"
  },
  "language_info": {
   "codemirror_mode": {
    "name": "ipython",
    "version": 3
   },
   "file_extension": ".py",
   "mimetype": "text/x-python",
   "name": "python",
   "nbconvert_exporter": "python",
   "pygments_lexer": "ipython3",
   "version": "3.10.4"
  }
 },
 "nbformat": 4,
 "nbformat_minor": 5
}
